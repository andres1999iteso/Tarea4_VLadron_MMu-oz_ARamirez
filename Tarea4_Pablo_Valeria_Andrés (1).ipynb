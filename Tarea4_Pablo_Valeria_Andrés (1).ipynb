{
 "cells": [
  {
   "cell_type": "markdown",
   "metadata": {},
   "source": [
    "<img style=\"float: left; margin: 30px 15px 15px 15px;\" src=\"https://pngimage.net/wp-content/uploads/2018/06/logo-iteso-png-5.png\" width=\"300\" height=\"500\" /> \n",
    "    \n",
    "    \n",
    "### <font color='navy'> Simulación de procesos financieros. \n",
    "\n",
    "**Nombres:** \n",
    "    Pablo Muñoz, Andrés Ramírez Villanueva, Valeria Ladrón de Guevara Vidrio\n",
    "    \n",
    "    #############.\n",
    "\n",
    "**Fecha:** 11 de junio del 2021.\n",
    "\n",
    "**Expediente** : If719963, If726061, IF714513\n",
    "    \n",
    "    \n",
    "**Profesor:** Oscar David Jaramillo Zuluaga.\n",
    "    \n",
    "**Link Github**: https://github.com/valerialadron/Tarea4_VLadron_MMu-oz_ARamirez\n",
    "\n",
    "# Tarea 4: Clase 5"
   ]
  },
  {
   "cell_type": "markdown",
   "metadata": {},
   "source": [
    "# Tarea\n",
    "\n",
    "## Ejercicio 1\n",
    "Como ejemplo simple de una simulación de Monte Carlo, considere calcular la probabilidad de una suma particular del lanzamiento de tres dados (cada dado tiene valores del uno al seis). Además cada dado tiene las siguientes carácterísticas: el primer dado no está cargado (distribución uniforme todos son equiprobables); el segundo y tercer dado están cargados basados en una distribución binomial con parámetros (`n=5, p=0.5` y `n=5, p=0.2`). Calcule la probabilidad de que la suma resultante sea 7, 14 o 18. "
   ]
  },
  {
   "cell_type": "markdown",
   "metadata": {},
   "source": [
    "Código de solución estudiante 1"
   ]
  },
  {
   "cell_type": "code",
   "execution_count": 403,
   "metadata": {},
   "outputs": [],
   "source": [
    "# Código de solución estudiante 1"
   ]
  },
  {
   "cell_type": "code",
   "execution_count": null,
   "metadata": {},
   "outputs": [],
   "source": []
  },
  {
   "cell_type": "markdown",
   "metadata": {},
   "source": [
    "**Solución Valeria**"
   ]
  },
  {
   "cell_type": "code",
   "execution_count": 393,
   "metadata": {},
   "outputs": [],
   "source": [
    "import numpy as np\n",
    "from numpy import random\n",
    "import matplotlib.pyplot as plt\n",
    "import scipy.stats as st\n",
    "\n",
    "N=100000 \n",
    "'N: Número de Lanzamientos'\n",
    "'Este función simula el comportamiento del lanzamiento de tres dados descritos en el ejercicio1.'\n",
    "\n",
    "def suma_3dados(N):\n",
    "    d1_nocarg = np.random.randint(1,7, size=N)\n",
    "    d2_carg = st.binom(n=5, p=0.5, loc=1).rvs(size=N)\n",
    "    d3_carg = st.binom(n=5, p=0.2, loc=1).rvs(size=N)\n",
    "    return np.array(d1_nocarg) + np.array(d2_carg) + np.array(d3_carg)"
   ]
  },
  {
   "cell_type": "code",
   "execution_count": 396,
   "metadata": {},
   "outputs": [
    {
     "data": {
      "text/plain": [
       "[0.12725, 0.01373, 0.0]"
      ]
     },
     "execution_count": 396,
     "metadata": {},
     "output_type": "execute_result"
    }
   ],
   "source": [
    "resultados = suma_3dados(100000)\n",
    "\n",
    "## contar los aciertos y dividir entre el numero total de iteraciones\n",
    "[sum([True for i in resultados if i == [j]])/len(resultados) for j in [7,14,18]]"
   ]
  },
  {
   "cell_type": "markdown",
   "metadata": {},
   "source": [
    "Código de solución estudiante 3 - Andrés Ramírez Villanueva"
   ]
  },
  {
   "cell_type": "code",
   "execution_count": 414,
   "metadata": {},
   "outputs": [],
   "source": [
    "# Código de solución estudiante 3\n",
    "import numpy as np\n",
    "import scipy.stats as st\n",
    "\n",
    "def dado(N):    \n",
    "    \n",
    "    suma= np.random.randint(1, 7,N)+st.binom(n=5, p=0.5, loc=1).rvs(size=N)+st.binom(n=5, p=0.2, loc=1).rvs(size=N)\n",
    "   \n",
    "    print('Esta es la probabilidad de que salga 7, 14 o 18 respectivamente: ',[sum([True for i in suma if i == [j]])/len(suma) for j in [7,14,18]])\n",
    "    \n",
    "    return "
   ]
  },
  {
   "cell_type": "code",
   "execution_count": 415,
   "metadata": {},
   "outputs": [
    {
     "name": "stdout",
     "output_type": "stream",
     "text": [
      "Esta es la probabilidad de que salga 7, 14 o 18 respectivamente:  [0.12707, 0.01382, 0.0]\n"
     ]
    }
   ],
   "source": [
    "dado(100000)"
   ]
  },
  {
   "cell_type": "markdown",
   "metadata": {},
   "source": [
    "# Ejercicio 2"
   ]
  },
  {
   "cell_type": "markdown",
   "metadata": {},
   "source": [
    "# Aplicación- Cafetería Central\n",
    "\n",
    "Premisas para la simulación:\n",
    "- Negocio de alimentos que vende bebidas y alimentos.\n",
    "- Negocio dentro del ITESO.\n",
    "- Negocio en cafetería central.\n",
    "- Tipo de clientes (hombres y mujeres).\n",
    "- Rentabilidad del 60%.\n",
    "\n",
    "## Objetivo\n",
    "Realizar una simulación estimado el tiempo medio que se tardaran los clientes en ser atendidos entre el horario de 6:30 a 1 pm. Además saber el consumo. \n",
    "**Analizar supuestos y limitantes**"
   ]
  },
  {
   "cell_type": "markdown",
   "metadata": {},
   "source": [
    "## Supuestos en simulación\n",
    "Clasificación de clientes: \n",
    "- Mujer  = 1 $\\longrightarrow$ aleatorio < 0.5\n",
    "- Hombre = 0 $\\longrightarrow$ aleatorio $\\geq$ 0.5.\n",
    "\n",
    "Condiciones iniciales:\n",
    "- Todas las distrubuciones de probabilidad se supondrán uniformes.\n",
    "- Tiempo de simulación: 6:30 am - 1:30pm $\\longrightarrow$ T = 7 horas = 25200 seg.\n",
    "- Tiempo de llegada hasta ser atendido: Min=5seg, Max=30seg.\n",
    "- Tiempo que tardan los clientes en ser atendidos:\n",
    "    - Mujer: Min = 1 min= 60seg, Max = 5 min = 300 seg\n",
    "    - Hombre: Min = 40 seg, Max = 2 min= 120 seg\n",
    "- Consumo según el tipo de cliente:\n",
    "    - Mujer: Min = 30 pesos, Max = 100 pesos\n",
    "    - Hombre: Min = 20 pesos, Max = 80 pesos\n",
    "\n",
    "Responder las siguientes preguntas basados en los datos del problema:\n",
    "1. ¿Cuáles fueron los gastos de los hombres y las mujeres en 5 días de trabajo?.\n",
    "2. ¿Cuál fue el consumo promedio de los hombres y mujeres?\n",
    "3. ¿Cuál fue el número de personas atendidas por día?\n",
    "4. ¿Cuál fue el tiempo de atención promedio?\n",
    "5. ¿Cuánto fue la ganancia promedio de la cafetería en 5 días de trabajo y su respectiva rentabilidad?"
   ]
  },
  {
   "cell_type": "markdown",
   "metadata": {},
   "source": [
    "Código de solución estudiante 1"
   ]
  },
  {
   "cell_type": "code",
   "execution_count": null,
   "metadata": {},
   "outputs": [],
   "source": []
  },
  {
   "cell_type": "code",
   "execution_count": null,
   "metadata": {},
   "outputs": [],
   "source": []
  },
  {
   "cell_type": "code",
   "execution_count": null,
   "metadata": {},
   "outputs": [],
   "source": []
  },
  {
   "cell_type": "markdown",
   "metadata": {},
   "source": [
    "**Solución Valeria**"
   ]
  },
  {
   "cell_type": "code",
   "execution_count": 3,
   "metadata": {},
   "outputs": [],
   "source": [
    "##Datos del problema\n",
    "d = 5\n",
    "T =25200\n",
    "T_at_min = 5; T_at_max = 30\n",
    "T_mujer_min =60; T_mujer_max = 300\n",
    "T_hombre_min = 40; T_hombre_max = 120\n",
    "C_mujer_min = 30; C_mujer_max = 100\n",
    "C_hombre_min = 20; C_hombre_max = 80"
   ]
  },
  {
   "cell_type": "code",
   "execution_count": 4,
   "metadata": {},
   "outputs": [],
   "source": [
    "#Con los datos del problema podemos concluir que:\n",
    "T_total_hombre_max = (T_at_max + T_hombre_max) \n",
    "T_total_hombre_min = (T_at_min + T_hombre_min) \n",
    "\n",
    "T_total_mujer_max = (T_at_max + T_mujer_max) \n",
    "T_total_mujer_min = (T_at_min + T_mujer_min) "
   ]
  },
  {
   "cell_type": "code",
   "execution_count": 5,
   "metadata": {},
   "outputs": [
    {
     "name": "stdout",
     "output_type": "stream",
     "text": [
      "Promedio del tiempo total para hombres:  97.83040486181154 Promedio del tiempo total para mujeres:  197.580878306222\n",
      "Promedio de tiempo total para un cliente:  147.70564158401677\n"
     ]
    }
   ],
   "source": [
    "'En promedio un hombre tarda un total:'\n",
    "prom_t_h = np.mean([random.uniform(T_total_hombre_min, T_total_hombre_max) for i in range(10000)])\n",
    "'En promedio una mujer tarda en total:'\n",
    "prom_t_m = np.mean([random.uniform(T_total_mujer_min, T_total_mujer_max) for i in range(10000)])\n",
    "\n",
    "print('Promedio del tiempo total para hombres: ',prom_t_h,\n",
    "      'Promedio del tiempo total para mujeres: ',prom_t_m)\n",
    "\n",
    "\n",
    "promcliente = .5*prom_t_h + .5*prom_t_m\n",
    "print('Promedio de tiempo total para un cliente: ',promcliente)"
   ]
  },
  {
   "cell_type": "markdown",
   "metadata": {},
   "source": [
    "Código de solución estudiante 3 - Andrés Ramírez Villanueva"
   ]
  },
  {
   "cell_type": "code",
   "execution_count": 411,
   "metadata": {},
   "outputs": [],
   "source": [
    "import numpy as np\n",
    "\n",
    "def restaurante_ITESO(dias,T_at_min, T_at_max, T_mujer_min, T_mujer_max, T_hombre_min, T_hombre_max, C_mujer_min,C_mujer_max,\n",
    "C_hombre_min, C_hombre_max):\n",
    "    \n",
    "    gastos_hombres=0\n",
    "    gastos_mujeres=0\n",
    "    cantidad_hombres=0\n",
    "    cantidad_mujeres=0\n",
    "    tiempo_atencion_total=0\n",
    "    lista=[]\n",
    "        \n",
    "    for i in range(dias):\n",
    "        \n",
    "        time=0\n",
    "        tiempo_dia_hombres=0\n",
    "        tiempo_dia_mujeres=0        \n",
    "        contador=0\n",
    "        \n",
    "        while time<25200:\n",
    "            \n",
    "            time+=np.random.uniform(T_at_min,T_at_max+.0000001)\n",
    "            \n",
    "            if np.random.randint(0,2)==0:#Hombres\n",
    "                var1=np.random.uniform(T_hombre_min,T_hombre_max+.0000001)\n",
    "                gastos_hombres+=np.random.uniform(C_hombre_min,C_hombre_max+.0000001)\n",
    "                cantidad_hombres+=1\n",
    "                tiempo_atencion_total+=var1\n",
    "                time+=var1\n",
    "                \n",
    "                \n",
    "            else:#Mujeres\n",
    "                var2=np.random.uniform(T_mujer_min,T_mujer_max+.0000001)\n",
    "                gastos_mujeres+=np.random.uniform(C_mujer_min,C_mujer_max+.0000001)\n",
    "                cantidad_mujeres+=1\n",
    "                tiempo_atencion_total+=var2\n",
    "                time+=var2\n",
    "             \n",
    "                \n",
    "            contador+=1\n",
    "                    \n",
    "        lista.append(contador)    \n",
    "    \n",
    "    print('Gastos de los hombres: $',np.round(gastos_hombres,2))\n",
    "    print('Gastos de las mujeres: $',np.round(gastos_mujeres,2))\n",
    "    print('Consumo promedio de los hombres: $',np.round(gastos_hombres/cantidad_hombres),2)\n",
    "    print('Consumo promedio mujeres: $',np.round(gastos_mujeres/cantidad_mujeres),2)\n",
    "    [print('Personas atendidas el día ',i+1, ': ',lista[i]) for i in range(dias)]\n",
    "    print('Tiempo de atención promedio: ',np.round((tiempo_atencion_total/np.sum(lista))),2)\n",
    "    print('Ganancia promedio: ',np.round((gastos_hombres+gastos_mujeres)/dias),2)\n",
    "    print('Rentabilidad: ',np.round(((gastos_hombres+gastos_mujeres)*.6)),2)\n",
    "    \n",
    "    return"
   ]
  },
  {
   "cell_type": "code",
   "execution_count": 412,
   "metadata": {},
   "outputs": [],
   "source": [
    "# Datos del problema\n",
    "dias = 5\n",
    "T =25200\n",
    "T_at_min = 5; T_at_max = 30\n",
    "T_mujer_min =60; T_mujer_max = 300\n",
    "T_hombre_min = 40; T_hombre_max = 120\n",
    "C_mujer_min = 30; C_mujer_max = 100\n",
    "C_hombre_min = 20; C_hombre_max = 80"
   ]
  },
  {
   "cell_type": "code",
   "execution_count": 413,
   "metadata": {},
   "outputs": [
    {
     "name": "stdout",
     "output_type": "stream",
     "text": [
      "Gastos de los hombres: $ 20561.62\n",
      "Gastos de las mujeres: $ 28503.63\n",
      "Consumo promedio de los hombres: $ 50.0 2\n",
      "Consumo promedio mujeres: $ 65.0 2\n",
      "Personas atendidas el día  1 :  180\n",
      "Personas atendidas el día  2 :  174\n",
      "Personas atendidas el día  3 :  158\n",
      "Personas atendidas el día  4 :  168\n",
      "Personas atendidas el día  5 :  166\n",
      "Tiempo de atención promedio:  132.0 2\n",
      "Ganancia promedio:  9813.0 2\n",
      "Rentabilidad:  29439.0 2\n"
     ]
    }
   ],
   "source": [
    "restaurante_ITESO (dias,T_at_min, T_at_max, T_mujer_min, T_mujer_max, T_hombre_min, T_hombre_max, C_mujer_min,C_mujer_max,\n",
    "C_hombre_min, C_hombre_max)"
   ]
  }
 ],
 "metadata": {
  "kernelspec": {
   "display_name": "Python 3",
   "language": "python",
   "name": "python3"
  },
  "language_info": {
   "codemirror_mode": {
    "name": "ipython",
    "version": 3
   },
   "file_extension": ".py",
   "mimetype": "text/x-python",
   "name": "python",
   "nbconvert_exporter": "python",
   "pygments_lexer": "ipython3",
   "version": "3.7.4"
  }
 },
 "nbformat": 4,
 "nbformat_minor": 2
}
